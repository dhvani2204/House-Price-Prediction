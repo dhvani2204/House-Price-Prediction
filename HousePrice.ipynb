{
  "cells": [
    {
      "cell_type": "markdown",
      "metadata": {
        "id": "AXHEKJ3v2uhc"
      },
      "source": [
        "Importing Dependencies"
      ]
    },
    {
      "cell_type": "code",
      "execution_count": 2,
      "metadata": {
        "id": "IgFdIo8AVvs7"
      },
      "outputs": [
        {
          "ename": "ModuleNotFoundError",
          "evalue": "No module named 'xgboost'",
          "output_type": "error",
          "traceback": [
            "\u001b[1;31m---------------------------------------------------------------------------\u001b[0m",
            "\u001b[1;31mModuleNotFoundError\u001b[0m                       Traceback (most recent call last)",
            "\u001b[1;32m~\\AppData\\Local\\Temp/ipykernel_17284/3499618917.py\u001b[0m in \u001b[0;36m<module>\u001b[1;34m\u001b[0m\n\u001b[0;32m      5\u001b[0m \u001b[1;32mimport\u001b[0m \u001b[0msklearn\u001b[0m\u001b[1;33m.\u001b[0m\u001b[0mdatasets\u001b[0m\u001b[1;33m\u001b[0m\u001b[1;33m\u001b[0m\u001b[0m\n\u001b[0;32m      6\u001b[0m \u001b[1;32mfrom\u001b[0m \u001b[0msklearn\u001b[0m\u001b[1;33m.\u001b[0m\u001b[0mmodel_selection\u001b[0m \u001b[1;32mimport\u001b[0m \u001b[0mtrain_test_split\u001b[0m\u001b[1;33m\u001b[0m\u001b[1;33m\u001b[0m\u001b[0m\n\u001b[1;32m----> 7\u001b[1;33m \u001b[1;32mfrom\u001b[0m \u001b[0mxgboost\u001b[0m \u001b[1;32mimport\u001b[0m \u001b[0mXGBRegressor\u001b[0m\u001b[1;33m\u001b[0m\u001b[1;33m\u001b[0m\u001b[0m\n\u001b[0m\u001b[0;32m      8\u001b[0m \u001b[1;32mfrom\u001b[0m \u001b[0msklearn\u001b[0m \u001b[1;32mimport\u001b[0m \u001b[0mmetrics\u001b[0m\u001b[1;33m\u001b[0m\u001b[1;33m\u001b[0m\u001b[0m\n",
            "\u001b[1;31mModuleNotFoundError\u001b[0m: No module named 'xgboost'"
          ]
        }
      ],
      "source": [
        "import numpy as np\n",
        "import pandas as pd\n",
        "import matplotlib.pyplot as plt\n",
        "import seaborn as sns\n",
        "import sklearn.datasets\n",
        "from sklearn.model_selection import train_test_split\n",
        "from xgboost import XGBRegressor\n",
        "from sklearn import metrics\n"
      ]
    },
    {
      "cell_type": "markdown",
      "metadata": {
        "id": "MSVqrfjD2cXv"
      },
      "source": [
        "Importing Dataset"
      ]
    },
    {
      "cell_type": "code",
      "execution_count": null,
      "metadata": {
        "colab": {
          "base_uri": "https://localhost:8080/"
        },
        "id": "vOsnmVfX2fPu",
        "outputId": "7cf85b31-e845-421e-8edf-c8b3514531e1"
      },
      "outputs": [],
      "source": [
        "house_price_dataset=sklearn.datasets.load_boston()"
      ]
    },
    {
      "cell_type": "code",
      "execution_count": null,
      "metadata": {
        "colab": {
          "base_uri": "https://localhost:8080/"
        },
        "id": "7CYk8Q562n9j",
        "outputId": "ea7db11f-ed93-4b21-c59b-8a7b15fbe99c"
      },
      "outputs": [],
      "source": [
        "house_price_dataset"
      ]
    },
    {
      "cell_type": "code",
      "execution_count": null,
      "metadata": {
        "id": "ZRqOMCp322ta"
      },
      "outputs": [],
      "source": [
        "#loading the dataset as pandas dataframe\n",
        "house_price_dataframe=pd.DataFrame(house_price_dataset.data,columns=house_price_dataset.feature_names)"
      ]
    },
    {
      "cell_type": "code",
      "execution_count": null,
      "metadata": {
        "colab": {
          "base_uri": "https://localhost:8080/",
          "height": 206
        },
        "id": "GNKA8F-E30FN",
        "outputId": "12b5424a-dfdf-4520-f186-d4ef18c48732"
      },
      "outputs": [],
      "source": [
        "#print first 5 rows of our Dataframe\n",
        "house_price_dataframe.head()"
      ]
    },
    {
      "cell_type": "code",
      "execution_count": null,
      "metadata": {
        "id": "0Po27-Rj3-dq"
      },
      "outputs": [],
      "source": [
        "#add the target(prices) column to the DataFrame\n",
        "house_price_dataframe['price']=house_price_dataset.target"
      ]
    },
    {
      "cell_type": "code",
      "execution_count": null,
      "metadata": {
        "colab": {
          "base_uri": "https://localhost:8080/",
          "height": 206
        },
        "id": "7XCKXtNQ5PPF",
        "outputId": "a44b6401-816c-4811-cd09-8b82ff42fadb"
      },
      "outputs": [],
      "source": [
        "house_price_dataframe.head()"
      ]
    },
    {
      "cell_type": "code",
      "execution_count": null,
      "metadata": {
        "colab": {
          "base_uri": "https://localhost:8080/"
        },
        "id": "Ra9KwPYP5yg4",
        "outputId": "184280f0-06ae-4a8f-bc5d-de1eed926a3b"
      },
      "outputs": [],
      "source": [
        "#checking the number of rows and columns\n",
        "house_price_dataframe.shape"
      ]
    },
    {
      "cell_type": "code",
      "execution_count": null,
      "metadata": {
        "colab": {
          "base_uri": "https://localhost:8080/"
        },
        "id": "KSdP-pf06A0G",
        "outputId": "c95a8bcf-c3d9-4fc6-d477-26ea9168df98"
      },
      "outputs": [],
      "source": [
        "#check for missing values\n",
        "house_price_dataframe.isnull().sum()"
      ]
    },
    {
      "cell_type": "code",
      "execution_count": null,
      "metadata": {
        "colab": {
          "base_uri": "https://localhost:8080/",
          "height": 364
        },
        "id": "7XH1S8mw6LvF",
        "outputId": "b01df3c1-1a30-4fd6-ef33-f93f048a9253"
      },
      "outputs": [],
      "source": [
        "#statistical measures of the dataset\n",
        "house_price_dataframe.describe()"
      ]
    },
    {
      "cell_type": "markdown",
      "metadata": {
        "id": "Vk-Cveg18x6k"
      },
      "source": [
        " Understanding the correlation between various features in a dataset"
      ]
    },
    {
      "cell_type": "code",
      "execution_count": null,
      "metadata": {
        "id": "m2KxYzvr7rt9"
      },
      "outputs": [],
      "source": [
        "correlation=house_price_dataframe.corr()"
      ]
    },
    {
      "cell_type": "code",
      "execution_count": null,
      "metadata": {
        "colab": {
          "base_uri": "https://localhost:8080/",
          "height": 595
        },
        "id": "9MP3J2Ek9UgW",
        "outputId": "0cb21584-0ae6-4a54-e488-3e82c01f129d"
      },
      "outputs": [],
      "source": [
        "#constructing a heatmap for understanding the correlation\n",
        "plt.figure(figsize=(10,10))\n",
        "sns.heatmap(correlation,cbar=True,square=True,fmt='.1f',annot=True,annot_kws={'size':8},cmap='Blues')"
      ]
    },
    {
      "cell_type": "markdown",
      "metadata": {
        "id": "E7WDiMmWBrUg"
      },
      "source": [
        "Splitting the data and target"
      ]
    },
    {
      "cell_type": "code",
      "execution_count": null,
      "metadata": {
        "id": "1nCbrnvcA1Gu"
      },
      "outputs": [],
      "source": [
        "X=house_price_dataframe.drop(['price'],axis=1)\n",
        "Y=house_price_dataframe['price']"
      ]
    },
    {
      "cell_type": "code",
      "execution_count": null,
      "metadata": {
        "colab": {
          "base_uri": "https://localhost:8080/"
        },
        "id": "W_ZircNaCUcZ",
        "outputId": "5a8033cf-d75a-412a-ec99-fc5765a0d0a7"
      },
      "outputs": [],
      "source": [
        "print(X)\n",
        "print(Y)"
      ]
    },
    {
      "cell_type": "markdown",
      "metadata": {
        "id": "2kLanl4HCand"
      },
      "source": [
        "Splitting the data into training data and test data"
      ]
    },
    {
      "cell_type": "code",
      "execution_count": null,
      "metadata": {
        "id": "s91NOSplCYP8"
      },
      "outputs": [],
      "source": [
        "X_train,X_test,Y_train,Y_test= train_test_split(X,Y,test_size=0.2,random_state=2)"
      ]
    },
    {
      "cell_type": "code",
      "execution_count": null,
      "metadata": {
        "colab": {
          "base_uri": "https://localhost:8080/"
        },
        "id": "H9POxlh_Dk0j",
        "outputId": "37b434e5-38a1-4b12-e0bf-0a22771c2183"
      },
      "outputs": [],
      "source": [
        "print(X.shape,X_train.shape,X_test.shape)"
      ]
    },
    {
      "cell_type": "markdown",
      "metadata": {
        "id": "NiS1DWWgD1X1"
      },
      "source": [
        "Model Training\n",
        "XGBoost Regressor"
      ]
    },
    {
      "cell_type": "code",
      "execution_count": null,
      "metadata": {
        "id": "Ztx0etE_DyZj"
      },
      "outputs": [],
      "source": [
        "#loading the model\n",
        "model=XGBRegressor()"
      ]
    },
    {
      "cell_type": "code",
      "execution_count": null,
      "metadata": {
        "colab": {
          "base_uri": "https://localhost:8080/"
        },
        "id": "3IieRjHJEWC9",
        "outputId": "c60f7239-610c-4af9-a0e8-a733af19e4c8"
      },
      "outputs": [],
      "source": [
        "#training the model with X_train\n",
        "model.fit(X_train,Y_train)"
      ]
    },
    {
      "cell_type": "markdown",
      "metadata": {
        "id": "Xk0JMwm3FAAz"
      },
      "source": [
        "Evaluation"
      ]
    },
    {
      "cell_type": "markdown",
      "metadata": {
        "id": "YwG87KrXFDyT"
      },
      "source": [
        "Prediction on training data"
      ]
    },
    {
      "cell_type": "code",
      "execution_count": null,
      "metadata": {
        "id": "UQlPKrHwE9qO"
      },
      "outputs": [],
      "source": [
        "#accuray for prediction on training data\n",
        "training_data_prediction=model.predict(X_train)"
      ]
    },
    {
      "cell_type": "code",
      "execution_count": null,
      "metadata": {
        "colab": {
          "base_uri": "https://localhost:8080/"
        },
        "id": "HIQwdVTEEvxM",
        "outputId": "86e11514-67f7-460b-e770-d849beeca003"
      },
      "outputs": [],
      "source": [
        "print(training_data_prediction)"
      ]
    },
    {
      "cell_type": "code",
      "execution_count": null,
      "metadata": {
        "colab": {
          "base_uri": "https://localhost:8080/"
        },
        "id": "ZqEIIMxrFo0Q",
        "outputId": "a6f81d25-7069-472f-8c53-d8a66769b754"
      },
      "outputs": [],
      "source": [
        " #R squared error\n",
        " score_1=metrics.r2_score(Y_train,training_data_prediction)\n",
        "\n",
        " #mean absolute error\n",
        " score_2=metrics.mean_absolute_error(Y_train,training_data_prediction)\n",
        "\n",
        "print(\"R squared error: \",score_1)\n",
        "print(\"Mean absolute Error:\",score_2)"
      ]
    },
    {
      "cell_type": "markdown",
      "metadata": {
        "id": "3Edvph9SI9v0"
      },
      "source": [
        "Prediction on test data"
      ]
    },
    {
      "cell_type": "code",
      "execution_count": null,
      "metadata": {
        "id": "w-gANz43I3yV"
      },
      "outputs": [],
      "source": [
        "testing_data_prediction=model.predict(X_test)"
      ]
    },
    {
      "cell_type": "code",
      "execution_count": null,
      "metadata": {
        "colab": {
          "base_uri": "https://localhost:8080/"
        },
        "id": "hf1IcB55JIgc",
        "outputId": "e3289761-ae88-4f72-9c64-d8c866062e40"
      },
      "outputs": [],
      "source": [
        "print(testing_data_prediction)"
      ]
    },
    {
      "cell_type": "code",
      "execution_count": null,
      "metadata": {
        "colab": {
          "base_uri": "https://localhost:8080/"
        },
        "id": "SOKZNavyJLeq",
        "outputId": "1287ca4b-5a36-4b0d-c6b5-e1b7d9140ca3"
      },
      "outputs": [],
      "source": [
        "#R squared error\n",
        "score_3=metrics.r2_score(Y_test,testing_data_prediction)\n",
        "\n",
        " #mean absolute error\n",
        "score_4=metrics.mean_absolute_error(Y_test,testing_data_prediction)\n",
        "\n",
        "print(\"R squared error: \",score_3)\n",
        "print(\"Mean absolute Error:\",score_4)"
      ]
    },
    {
      "cell_type": "markdown",
      "metadata": {
        "id": "yjGtTc_BJk9a"
      },
      "source": [
        "Visualizing the actual prices and predicted prices\n"
      ]
    },
    {
      "cell_type": "code",
      "execution_count": null,
      "metadata": {
        "colab": {
          "base_uri": "https://localhost:8080/",
          "height": 295
        },
        "id": "8zb2-uygJbVr",
        "outputId": "4dece620-6fb8-4ddd-bd19-dbea1b53e959"
      },
      "outputs": [],
      "source": [
        "plt.scatter(Y_train,training_data_prediction)\n",
        "plt.xlabel(\"Actual prices\")\n",
        "plt.ylabel(\"Predicted prices\")\n",
        "plt.title(\"Actual price vs Predicted price\")\n",
        "plt.show()"
      ]
    },
    {
      "cell_type": "code",
      "execution_count": null,
      "metadata": {
        "id": "ddsXeEfwKkyT"
      },
      "outputs": [],
      "source": []
    }
  ],
  "metadata": {
    "colab": {
      "name": "Untitled8.ipynb",
      "provenance": []
    },
    "kernelspec": {
      "display_name": "Python 3.9.7 ('base')",
      "language": "python",
      "name": "python3"
    },
    "language_info": {
      "codemirror_mode": {
        "name": "ipython",
        "version": 3
      },
      "file_extension": ".py",
      "mimetype": "text/x-python",
      "name": "python",
      "nbconvert_exporter": "python",
      "pygments_lexer": "ipython3",
      "version": "3.9.7"
    },
    "vscode": {
      "interpreter": {
        "hash": "610a6f344c2137faf927ea819c63f6cee33a2c04455044b28099f39fe9722347"
      }
    }
  },
  "nbformat": 4,
  "nbformat_minor": 0
}
